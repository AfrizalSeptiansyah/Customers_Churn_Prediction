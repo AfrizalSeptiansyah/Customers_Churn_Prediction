{
 "cells": [
  {
   "cell_type": "markdown",
   "id": "excited-bloom",
   "metadata": {},
   "source": [
    "# Costumer Churn Prediction with XGBoost"
   ]
  },
  {
   "cell_type": "markdown",
   "id": "owned-sword",
   "metadata": {},
   "source": [
    "## Import Library"
   ]
  },
  {
   "cell_type": "code",
   "execution_count": 1,
   "id": "naughty-honduras",
   "metadata": {},
   "outputs": [],
   "source": [
    "import numpy as np\n",
    "import pandas as pd\n",
    "import matplotlib.pyplot as plt\n",
    "import seaborn as sns\n",
    "sns.set()\n",
    "from warnings import filterwarnings\n",
    "filterwarnings('ignore')\n",
    "\n",
    "from sklearn.model_selection import train_test_split\n",
    "from sklearn.pipeline import Pipeline\n",
    "from sklearn.compose import ColumnTransformer\n",
    "\n",
    "from jcopml.pipeline import num_pipe, cat_pipe\n",
    "from jcopml.utils import save_model, load_model\n",
    "from jcopml.plot import plot_missing_value\n",
    "from jcopml.feature_importance import mean_score_decrease, mean_loss_decrease"
   ]
  },
  {
   "cell_type": "markdown",
   "id": "familiar-secondary",
   "metadata": {},
   "source": [
    "## Load Data"
   ]
  },
  {
   "cell_type": "code",
   "execution_count": 2,
   "id": "known-pathology",
   "metadata": {},
   "outputs": [
    {
     "data": {
      "text/html": [
       "<div>\n",
       "<style scoped>\n",
       "    .dataframe tbody tr th:only-of-type {\n",
       "        vertical-align: middle;\n",
       "    }\n",
       "\n",
       "    .dataframe tbody tr th {\n",
       "        vertical-align: top;\n",
       "    }\n",
       "\n",
       "    .dataframe thead th {\n",
       "        text-align: right;\n",
       "    }\n",
       "</style>\n",
       "<table border=\"1\" class=\"dataframe\">\n",
       "  <thead>\n",
       "    <tr style=\"text-align: right;\">\n",
       "      <th></th>\n",
       "      <th>state</th>\n",
       "      <th>account_length</th>\n",
       "      <th>area_code</th>\n",
       "      <th>international_plan</th>\n",
       "      <th>voice_mail_plan</th>\n",
       "      <th>number_vmail_messages</th>\n",
       "      <th>total_day_calls</th>\n",
       "      <th>total_day_charge</th>\n",
       "      <th>total_eve_minutes</th>\n",
       "      <th>total_eve_calls</th>\n",
       "      <th>total_eve_charge</th>\n",
       "      <th>total_night_minutes</th>\n",
       "      <th>total_night_calls</th>\n",
       "      <th>total_night_charge</th>\n",
       "      <th>total_intl_minutes</th>\n",
       "      <th>total_intl_calls</th>\n",
       "      <th>total_intl_charge</th>\n",
       "      <th>number_customer_service_calls</th>\n",
       "      <th>churn</th>\n",
       "    </tr>\n",
       "  </thead>\n",
       "  <tbody>\n",
       "    <tr>\n",
       "      <th>0</th>\n",
       "      <td>OH</td>\n",
       "      <td>107</td>\n",
       "      <td>area_code_415</td>\n",
       "      <td>no</td>\n",
       "      <td>yes</td>\n",
       "      <td>26</td>\n",
       "      <td>123</td>\n",
       "      <td>27.47</td>\n",
       "      <td>195.5</td>\n",
       "      <td>103</td>\n",
       "      <td>16.62</td>\n",
       "      <td>254.4</td>\n",
       "      <td>103</td>\n",
       "      <td>11.45</td>\n",
       "      <td>13.7</td>\n",
       "      <td>3</td>\n",
       "      <td>3.70</td>\n",
       "      <td>1</td>\n",
       "      <td>0</td>\n",
       "    </tr>\n",
       "    <tr>\n",
       "      <th>1</th>\n",
       "      <td>NJ</td>\n",
       "      <td>137</td>\n",
       "      <td>area_code_415</td>\n",
       "      <td>no</td>\n",
       "      <td>no</td>\n",
       "      <td>0</td>\n",
       "      <td>114</td>\n",
       "      <td>41.38</td>\n",
       "      <td>121.2</td>\n",
       "      <td>110</td>\n",
       "      <td>10.30</td>\n",
       "      <td>162.6</td>\n",
       "      <td>104</td>\n",
       "      <td>7.32</td>\n",
       "      <td>12.2</td>\n",
       "      <td>5</td>\n",
       "      <td>3.29</td>\n",
       "      <td>0</td>\n",
       "      <td>0</td>\n",
       "    </tr>\n",
       "    <tr>\n",
       "      <th>2</th>\n",
       "      <td>OH</td>\n",
       "      <td>84</td>\n",
       "      <td>area_code_408</td>\n",
       "      <td>yes</td>\n",
       "      <td>no</td>\n",
       "      <td>0</td>\n",
       "      <td>71</td>\n",
       "      <td>50.90</td>\n",
       "      <td>61.9</td>\n",
       "      <td>88</td>\n",
       "      <td>5.26</td>\n",
       "      <td>196.9</td>\n",
       "      <td>89</td>\n",
       "      <td>8.86</td>\n",
       "      <td>6.6</td>\n",
       "      <td>7</td>\n",
       "      <td>1.78</td>\n",
       "      <td>2</td>\n",
       "      <td>0</td>\n",
       "    </tr>\n",
       "    <tr>\n",
       "      <th>3</th>\n",
       "      <td>OK</td>\n",
       "      <td>75</td>\n",
       "      <td>area_code_415</td>\n",
       "      <td>yes</td>\n",
       "      <td>no</td>\n",
       "      <td>0</td>\n",
       "      <td>113</td>\n",
       "      <td>28.34</td>\n",
       "      <td>148.3</td>\n",
       "      <td>122</td>\n",
       "      <td>12.61</td>\n",
       "      <td>186.9</td>\n",
       "      <td>121</td>\n",
       "      <td>8.41</td>\n",
       "      <td>10.1</td>\n",
       "      <td>3</td>\n",
       "      <td>2.73</td>\n",
       "      <td>3</td>\n",
       "      <td>0</td>\n",
       "    </tr>\n",
       "    <tr>\n",
       "      <th>4</th>\n",
       "      <td>MA</td>\n",
       "      <td>121</td>\n",
       "      <td>area_code_510</td>\n",
       "      <td>no</td>\n",
       "      <td>yes</td>\n",
       "      <td>24</td>\n",
       "      <td>88</td>\n",
       "      <td>37.09</td>\n",
       "      <td>348.5</td>\n",
       "      <td>108</td>\n",
       "      <td>29.62</td>\n",
       "      <td>212.6</td>\n",
       "      <td>118</td>\n",
       "      <td>9.57</td>\n",
       "      <td>7.5</td>\n",
       "      <td>7</td>\n",
       "      <td>2.03</td>\n",
       "      <td>3</td>\n",
       "      <td>0</td>\n",
       "    </tr>\n",
       "  </tbody>\n",
       "</table>\n",
       "</div>"
      ],
      "text/plain": [
       "  state  account_length      area_code international_plan voice_mail_plan  \\\n",
       "0    OH             107  area_code_415                 no             yes   \n",
       "1    NJ             137  area_code_415                 no              no   \n",
       "2    OH              84  area_code_408                yes              no   \n",
       "3    OK              75  area_code_415                yes              no   \n",
       "4    MA             121  area_code_510                 no             yes   \n",
       "\n",
       "   number_vmail_messages  total_day_calls  total_day_charge  \\\n",
       "0                     26              123             27.47   \n",
       "1                      0              114             41.38   \n",
       "2                      0               71             50.90   \n",
       "3                      0              113             28.34   \n",
       "4                     24               88             37.09   \n",
       "\n",
       "   total_eve_minutes  total_eve_calls  total_eve_charge  total_night_minutes  \\\n",
       "0              195.5              103             16.62                254.4   \n",
       "1              121.2              110             10.30                162.6   \n",
       "2               61.9               88              5.26                196.9   \n",
       "3              148.3              122             12.61                186.9   \n",
       "4              348.5              108             29.62                212.6   \n",
       "\n",
       "   total_night_calls  total_night_charge  total_intl_minutes  \\\n",
       "0                103               11.45                13.7   \n",
       "1                104                7.32                12.2   \n",
       "2                 89                8.86                 6.6   \n",
       "3                121                8.41                10.1   \n",
       "4                118                9.57                 7.5   \n",
       "\n",
       "   total_intl_calls  total_intl_charge  number_customer_service_calls  churn  \n",
       "0                 3               3.70                              1      0  \n",
       "1                 5               3.29                              0      0  \n",
       "2                 7               1.78                              2      0  \n",
       "3                 3               2.73                              3      0  \n",
       "4                 7               2.03                              3      0  "
      ]
     },
     "execution_count": 2,
     "metadata": {},
     "output_type": "execute_result"
    }
   ],
   "source": [
    "df = pd.read_csv(\"data/train_new.csv\")\n",
    "df.head()"
   ]
  },
  {
   "cell_type": "code",
   "execution_count": 3,
   "id": "unnecessary-testing",
   "metadata": {},
   "outputs": [
    {
     "data": {
      "text/plain": [
       "(4250, 19)"
      ]
     },
     "execution_count": 3,
     "metadata": {},
     "output_type": "execute_result"
    }
   ],
   "source": [
    "df.shape"
   ]
  },
  {
   "cell_type": "code",
   "execution_count": 4,
   "id": "athletic-responsibility",
   "metadata": {},
   "outputs": [
    {
     "data": {
      "text/plain": [
       "state                             object\n",
       "account_length                     int64\n",
       "area_code                         object\n",
       "international_plan                object\n",
       "voice_mail_plan                   object\n",
       "number_vmail_messages              int64\n",
       "total_day_calls                    int64\n",
       "total_day_charge                 float64\n",
       "total_eve_minutes                float64\n",
       "total_eve_calls                    int64\n",
       "total_eve_charge                 float64\n",
       "total_night_minutes              float64\n",
       "total_night_calls                  int64\n",
       "total_night_charge               float64\n",
       "total_intl_minutes               float64\n",
       "total_intl_calls                   int64\n",
       "total_intl_charge                float64\n",
       "number_customer_service_calls      int64\n",
       "churn                              int64\n",
       "dtype: object"
      ]
     },
     "execution_count": 4,
     "metadata": {},
     "output_type": "execute_result"
    }
   ],
   "source": [
    "df.dtypes"
   ]
  },
  {
   "cell_type": "code",
   "execution_count": 5,
   "id": "resident-conversion",
   "metadata": {},
   "outputs": [
    {
     "data": {
      "text/html": [
       "<div>\n",
       "<style scoped>\n",
       "    .dataframe tbody tr th:only-of-type {\n",
       "        vertical-align: middle;\n",
       "    }\n",
       "\n",
       "    .dataframe tbody tr th {\n",
       "        vertical-align: top;\n",
       "    }\n",
       "\n",
       "    .dataframe thead th {\n",
       "        text-align: right;\n",
       "    }\n",
       "</style>\n",
       "<table border=\"1\" class=\"dataframe\">\n",
       "  <thead>\n",
       "    <tr style=\"text-align: right;\">\n",
       "      <th></th>\n",
       "      <th>account_length</th>\n",
       "      <th>number_vmail_messages</th>\n",
       "      <th>total_day_calls</th>\n",
       "      <th>total_day_charge</th>\n",
       "      <th>total_eve_minutes</th>\n",
       "      <th>total_eve_calls</th>\n",
       "      <th>total_eve_charge</th>\n",
       "      <th>total_night_minutes</th>\n",
       "      <th>total_night_calls</th>\n",
       "      <th>total_night_charge</th>\n",
       "      <th>total_intl_minutes</th>\n",
       "      <th>total_intl_calls</th>\n",
       "      <th>total_intl_charge</th>\n",
       "      <th>number_customer_service_calls</th>\n",
       "      <th>churn</th>\n",
       "    </tr>\n",
       "  </thead>\n",
       "  <tbody>\n",
       "    <tr>\n",
       "      <th>count</th>\n",
       "      <td>4250.000000</td>\n",
       "      <td>4250.000000</td>\n",
       "      <td>4250.000000</td>\n",
       "      <td>4250.000000</td>\n",
       "      <td>4250.000000</td>\n",
       "      <td>4250.000000</td>\n",
       "      <td>4250.000000</td>\n",
       "      <td>4250.000000</td>\n",
       "      <td>4250.000000</td>\n",
       "      <td>4250.000000</td>\n",
       "      <td>4250.000000</td>\n",
       "      <td>4250.000000</td>\n",
       "      <td>4250.000000</td>\n",
       "      <td>4250.000000</td>\n",
       "      <td>4250.000000</td>\n",
       "    </tr>\n",
       "    <tr>\n",
       "      <th>mean</th>\n",
       "      <td>100.236235</td>\n",
       "      <td>7.631765</td>\n",
       "      <td>99.907294</td>\n",
       "      <td>30.644682</td>\n",
       "      <td>200.173906</td>\n",
       "      <td>100.176471</td>\n",
       "      <td>17.015012</td>\n",
       "      <td>200.527882</td>\n",
       "      <td>99.839529</td>\n",
       "      <td>9.023892</td>\n",
       "      <td>10.256071</td>\n",
       "      <td>4.426353</td>\n",
       "      <td>2.769654</td>\n",
       "      <td>1.559059</td>\n",
       "      <td>0.140706</td>\n",
       "    </tr>\n",
       "    <tr>\n",
       "      <th>std</th>\n",
       "      <td>39.698401</td>\n",
       "      <td>13.439882</td>\n",
       "      <td>19.850817</td>\n",
       "      <td>9.182096</td>\n",
       "      <td>50.249518</td>\n",
       "      <td>19.908591</td>\n",
       "      <td>4.271212</td>\n",
       "      <td>50.353548</td>\n",
       "      <td>20.093220</td>\n",
       "      <td>2.265922</td>\n",
       "      <td>2.760102</td>\n",
       "      <td>2.463069</td>\n",
       "      <td>0.745204</td>\n",
       "      <td>1.311434</td>\n",
       "      <td>0.347759</td>\n",
       "    </tr>\n",
       "    <tr>\n",
       "      <th>min</th>\n",
       "      <td>1.000000</td>\n",
       "      <td>0.000000</td>\n",
       "      <td>0.000000</td>\n",
       "      <td>0.000000</td>\n",
       "      <td>0.000000</td>\n",
       "      <td>0.000000</td>\n",
       "      <td>0.000000</td>\n",
       "      <td>0.000000</td>\n",
       "      <td>0.000000</td>\n",
       "      <td>0.000000</td>\n",
       "      <td>0.000000</td>\n",
       "      <td>0.000000</td>\n",
       "      <td>0.000000</td>\n",
       "      <td>0.000000</td>\n",
       "      <td>0.000000</td>\n",
       "    </tr>\n",
       "    <tr>\n",
       "      <th>25%</th>\n",
       "      <td>73.000000</td>\n",
       "      <td>0.000000</td>\n",
       "      <td>87.000000</td>\n",
       "      <td>24.365000</td>\n",
       "      <td>165.925000</td>\n",
       "      <td>87.000000</td>\n",
       "      <td>14.102500</td>\n",
       "      <td>167.225000</td>\n",
       "      <td>86.000000</td>\n",
       "      <td>7.522500</td>\n",
       "      <td>8.500000</td>\n",
       "      <td>3.000000</td>\n",
       "      <td>2.300000</td>\n",
       "      <td>1.000000</td>\n",
       "      <td>0.000000</td>\n",
       "    </tr>\n",
       "    <tr>\n",
       "      <th>50%</th>\n",
       "      <td>100.000000</td>\n",
       "      <td>0.000000</td>\n",
       "      <td>100.000000</td>\n",
       "      <td>30.680000</td>\n",
       "      <td>200.700000</td>\n",
       "      <td>100.000000</td>\n",
       "      <td>17.060000</td>\n",
       "      <td>200.450000</td>\n",
       "      <td>100.000000</td>\n",
       "      <td>9.020000</td>\n",
       "      <td>10.300000</td>\n",
       "      <td>4.000000</td>\n",
       "      <td>2.780000</td>\n",
       "      <td>1.000000</td>\n",
       "      <td>0.000000</td>\n",
       "    </tr>\n",
       "    <tr>\n",
       "      <th>75%</th>\n",
       "      <td>127.000000</td>\n",
       "      <td>16.000000</td>\n",
       "      <td>113.000000</td>\n",
       "      <td>36.750000</td>\n",
       "      <td>233.775000</td>\n",
       "      <td>114.000000</td>\n",
       "      <td>19.867500</td>\n",
       "      <td>234.700000</td>\n",
       "      <td>113.000000</td>\n",
       "      <td>10.560000</td>\n",
       "      <td>12.000000</td>\n",
       "      <td>6.000000</td>\n",
       "      <td>3.240000</td>\n",
       "      <td>2.000000</td>\n",
       "      <td>0.000000</td>\n",
       "    </tr>\n",
       "    <tr>\n",
       "      <th>max</th>\n",
       "      <td>243.000000</td>\n",
       "      <td>52.000000</td>\n",
       "      <td>165.000000</td>\n",
       "      <td>59.760000</td>\n",
       "      <td>359.300000</td>\n",
       "      <td>170.000000</td>\n",
       "      <td>30.540000</td>\n",
       "      <td>395.000000</td>\n",
       "      <td>175.000000</td>\n",
       "      <td>17.770000</td>\n",
       "      <td>20.000000</td>\n",
       "      <td>20.000000</td>\n",
       "      <td>5.400000</td>\n",
       "      <td>9.000000</td>\n",
       "      <td>1.000000</td>\n",
       "    </tr>\n",
       "  </tbody>\n",
       "</table>\n",
       "</div>"
      ],
      "text/plain": [
       "       account_length  number_vmail_messages  total_day_calls  \\\n",
       "count     4250.000000            4250.000000      4250.000000   \n",
       "mean       100.236235               7.631765        99.907294   \n",
       "std         39.698401              13.439882        19.850817   \n",
       "min          1.000000               0.000000         0.000000   \n",
       "25%         73.000000               0.000000        87.000000   \n",
       "50%        100.000000               0.000000       100.000000   \n",
       "75%        127.000000              16.000000       113.000000   \n",
       "max        243.000000              52.000000       165.000000   \n",
       "\n",
       "       total_day_charge  total_eve_minutes  total_eve_calls  total_eve_charge  \\\n",
       "count       4250.000000        4250.000000      4250.000000       4250.000000   \n",
       "mean          30.644682         200.173906       100.176471         17.015012   \n",
       "std            9.182096          50.249518        19.908591          4.271212   \n",
       "min            0.000000           0.000000         0.000000          0.000000   \n",
       "25%           24.365000         165.925000        87.000000         14.102500   \n",
       "50%           30.680000         200.700000       100.000000         17.060000   \n",
       "75%           36.750000         233.775000       114.000000         19.867500   \n",
       "max           59.760000         359.300000       170.000000         30.540000   \n",
       "\n",
       "       total_night_minutes  total_night_calls  total_night_charge  \\\n",
       "count          4250.000000        4250.000000         4250.000000   \n",
       "mean            200.527882          99.839529            9.023892   \n",
       "std              50.353548          20.093220            2.265922   \n",
       "min               0.000000           0.000000            0.000000   \n",
       "25%             167.225000          86.000000            7.522500   \n",
       "50%             200.450000         100.000000            9.020000   \n",
       "75%             234.700000         113.000000           10.560000   \n",
       "max             395.000000         175.000000           17.770000   \n",
       "\n",
       "       total_intl_minutes  total_intl_calls  total_intl_charge  \\\n",
       "count         4250.000000       4250.000000        4250.000000   \n",
       "mean            10.256071          4.426353           2.769654   \n",
       "std              2.760102          2.463069           0.745204   \n",
       "min              0.000000          0.000000           0.000000   \n",
       "25%              8.500000          3.000000           2.300000   \n",
       "50%             10.300000          4.000000           2.780000   \n",
       "75%             12.000000          6.000000           3.240000   \n",
       "max             20.000000         20.000000           5.400000   \n",
       "\n",
       "       number_customer_service_calls        churn  \n",
       "count                    4250.000000  4250.000000  \n",
       "mean                        1.559059     0.140706  \n",
       "std                         1.311434     0.347759  \n",
       "min                         0.000000     0.000000  \n",
       "25%                         1.000000     0.000000  \n",
       "50%                         1.000000     0.000000  \n",
       "75%                         2.000000     0.000000  \n",
       "max                         9.000000     1.000000  "
      ]
     },
     "execution_count": 5,
     "metadata": {},
     "output_type": "execute_result"
    }
   ],
   "source": [
    "df.describe()"
   ]
  },
  {
   "cell_type": "code",
   "execution_count": 6,
   "id": "eleven-retention",
   "metadata": {},
   "outputs": [
    {
     "data": {
      "text/html": [
       "<div>\n",
       "<style scoped>\n",
       "    .dataframe tbody tr th:only-of-type {\n",
       "        vertical-align: middle;\n",
       "    }\n",
       "\n",
       "    .dataframe tbody tr th {\n",
       "        vertical-align: top;\n",
       "    }\n",
       "\n",
       "    .dataframe thead th {\n",
       "        text-align: right;\n",
       "    }\n",
       "</style>\n",
       "<table border=\"1\" class=\"dataframe\">\n",
       "  <thead>\n",
       "    <tr style=\"text-align: right;\">\n",
       "      <th></th>\n",
       "      <th>state</th>\n",
       "      <th>area_code</th>\n",
       "      <th>international_plan</th>\n",
       "      <th>voice_mail_plan</th>\n",
       "    </tr>\n",
       "  </thead>\n",
       "  <tbody>\n",
       "    <tr>\n",
       "      <th>count</th>\n",
       "      <td>4250</td>\n",
       "      <td>4250</td>\n",
       "      <td>4250</td>\n",
       "      <td>4250</td>\n",
       "    </tr>\n",
       "    <tr>\n",
       "      <th>unique</th>\n",
       "      <td>51</td>\n",
       "      <td>3</td>\n",
       "      <td>2</td>\n",
       "      <td>2</td>\n",
       "    </tr>\n",
       "    <tr>\n",
       "      <th>top</th>\n",
       "      <td>WV</td>\n",
       "      <td>area_code_415</td>\n",
       "      <td>no</td>\n",
       "      <td>no</td>\n",
       "    </tr>\n",
       "    <tr>\n",
       "      <th>freq</th>\n",
       "      <td>139</td>\n",
       "      <td>2108</td>\n",
       "      <td>3854</td>\n",
       "      <td>3138</td>\n",
       "    </tr>\n",
       "  </tbody>\n",
       "</table>\n",
       "</div>"
      ],
      "text/plain": [
       "       state      area_code international_plan voice_mail_plan\n",
       "count   4250           4250               4250            4250\n",
       "unique    51              3                  2               2\n",
       "top       WV  area_code_415                 no              no\n",
       "freq     139           2108               3854            3138"
      ]
     },
     "execution_count": 6,
     "metadata": {},
     "output_type": "execute_result"
    }
   ],
   "source": [
    "df.describe(include='O')"
   ]
  },
  {
   "cell_type": "markdown",
   "id": "funky-hometown",
   "metadata": {},
   "source": [
    "## Dataset Splitting"
   ]
  },
  {
   "cell_type": "code",
   "execution_count": 7,
   "id": "electric-recognition",
   "metadata": {},
   "outputs": [
    {
     "data": {
      "text/plain": [
       "((3400, 18), (850, 18), (3400,), (850,))"
      ]
     },
     "execution_count": 7,
     "metadata": {},
     "output_type": "execute_result"
    }
   ],
   "source": [
    "X = df.drop(columns=\"churn\")\n",
    "y = df.churn\n",
    "\n",
    "X_train, X_test, y_train, y_test = train_test_split(X, y, test_size=0.2, stratify=y, random_state=42)\n",
    "X_train.shape, X_test.shape, y_train.shape, y_test.shape"
   ]
  },
  {
   "cell_type": "markdown",
   "id": "prepared-rendering",
   "metadata": {},
   "source": [
    "## Modeling"
   ]
  },
  {
   "cell_type": "code",
   "execution_count": 8,
   "id": "homeless-center",
   "metadata": {},
   "outputs": [],
   "source": [
    "from xgboost import XGBClassifier\n",
    "from sklearn.model_selection import RandomizedSearchCV\n",
    "from jcopml.tuning import random_search_params as rsp\n",
    "from jcopml.tuning.space import Integer, Real\n",
    "import category_encoders as ce\n",
    "from sklearn.impute import SimpleImputer"
   ]
  },
  {
   "cell_type": "code",
   "execution_count": 9,
   "id": "convinced-parish",
   "metadata": {},
   "outputs": [],
   "source": [
    "# filter fitur numerik dan categoric \n",
    "numeric = list(X_train.dtypes[X_train.dtypes != 'object'].index)\n",
    "categoric = list(X_train.dtypes[X_train.dtypes == 'object'].index)"
   ]
  },
  {
   "cell_type": "code",
   "execution_count": 10,
   "id": "congressional-blues",
   "metadata": {},
   "outputs": [],
   "source": [
    "cat_pipe2 = Pipeline([\n",
    "('imputer', SimpleImputer(strategy='most_frequent')),\n",
    "('onehot', ce.BinaryEncoder())\n",
    "])"
   ]
  },
  {
   "cell_type": "code",
   "execution_count": 11,
   "id": "intermediate-gates",
   "metadata": {},
   "outputs": [
    {
     "data": {
      "text/html": [
       "<div>\n",
       "<style scoped>\n",
       "    .dataframe tbody tr th:only-of-type {\n",
       "        vertical-align: middle;\n",
       "    }\n",
       "\n",
       "    .dataframe tbody tr th {\n",
       "        vertical-align: top;\n",
       "    }\n",
       "\n",
       "    .dataframe thead th {\n",
       "        text-align: right;\n",
       "    }\n",
       "</style>\n",
       "<table border=\"1\" class=\"dataframe\">\n",
       "  <thead>\n",
       "    <tr style=\"text-align: right;\">\n",
       "      <th></th>\n",
       "      <th>state</th>\n",
       "      <th>account_length</th>\n",
       "      <th>area_code</th>\n",
       "      <th>international_plan</th>\n",
       "      <th>voice_mail_plan</th>\n",
       "      <th>number_vmail_messages</th>\n",
       "      <th>total_day_calls</th>\n",
       "      <th>total_day_charge</th>\n",
       "      <th>total_eve_minutes</th>\n",
       "      <th>total_eve_calls</th>\n",
       "      <th>total_eve_charge</th>\n",
       "      <th>total_night_minutes</th>\n",
       "      <th>total_night_calls</th>\n",
       "      <th>total_night_charge</th>\n",
       "      <th>total_intl_minutes</th>\n",
       "      <th>total_intl_calls</th>\n",
       "      <th>total_intl_charge</th>\n",
       "      <th>number_customer_service_calls</th>\n",
       "    </tr>\n",
       "  </thead>\n",
       "  <tbody>\n",
       "    <tr>\n",
       "      <th>3835</th>\n",
       "      <td>NE</td>\n",
       "      <td>166</td>\n",
       "      <td>area_code_415</td>\n",
       "      <td>no</td>\n",
       "      <td>no</td>\n",
       "      <td>0</td>\n",
       "      <td>117</td>\n",
       "      <td>40.56</td>\n",
       "      <td>242.8</td>\n",
       "      <td>73</td>\n",
       "      <td>20.64</td>\n",
       "      <td>203.3</td>\n",
       "      <td>130</td>\n",
       "      <td>9.15</td>\n",
       "      <td>10.0</td>\n",
       "      <td>8</td>\n",
       "      <td>2.70</td>\n",
       "      <td>4</td>\n",
       "    </tr>\n",
       "    <tr>\n",
       "      <th>1518</th>\n",
       "      <td>CT</td>\n",
       "      <td>125</td>\n",
       "      <td>area_code_415</td>\n",
       "      <td>yes</td>\n",
       "      <td>no</td>\n",
       "      <td>0</td>\n",
       "      <td>118</td>\n",
       "      <td>31.84</td>\n",
       "      <td>160.7</td>\n",
       "      <td>111</td>\n",
       "      <td>13.66</td>\n",
       "      <td>263.8</td>\n",
       "      <td>112</td>\n",
       "      <td>11.87</td>\n",
       "      <td>9.6</td>\n",
       "      <td>2</td>\n",
       "      <td>2.59</td>\n",
       "      <td>0</td>\n",
       "    </tr>\n",
       "    <tr>\n",
       "      <th>1704</th>\n",
       "      <td>NC</td>\n",
       "      <td>89</td>\n",
       "      <td>area_code_408</td>\n",
       "      <td>no</td>\n",
       "      <td>no</td>\n",
       "      <td>0</td>\n",
       "      <td>151</td>\n",
       "      <td>18.00</td>\n",
       "      <td>189.6</td>\n",
       "      <td>142</td>\n",
       "      <td>16.12</td>\n",
       "      <td>170.9</td>\n",
       "      <td>67</td>\n",
       "      <td>7.69</td>\n",
       "      <td>12.7</td>\n",
       "      <td>7</td>\n",
       "      <td>3.43</td>\n",
       "      <td>0</td>\n",
       "    </tr>\n",
       "    <tr>\n",
       "      <th>3808</th>\n",
       "      <td>VT</td>\n",
       "      <td>83</td>\n",
       "      <td>area_code_510</td>\n",
       "      <td>no</td>\n",
       "      <td>yes</td>\n",
       "      <td>37</td>\n",
       "      <td>117</td>\n",
       "      <td>22.63</td>\n",
       "      <td>171.4</td>\n",
       "      <td>89</td>\n",
       "      <td>14.57</td>\n",
       "      <td>218.1</td>\n",
       "      <td>92</td>\n",
       "      <td>9.81</td>\n",
       "      <td>10.9</td>\n",
       "      <td>4</td>\n",
       "      <td>2.94</td>\n",
       "      <td>3</td>\n",
       "    </tr>\n",
       "    <tr>\n",
       "      <th>1448</th>\n",
       "      <td>AZ</td>\n",
       "      <td>100</td>\n",
       "      <td>area_code_415</td>\n",
       "      <td>no</td>\n",
       "      <td>no</td>\n",
       "      <td>0</td>\n",
       "      <td>152</td>\n",
       "      <td>32.05</td>\n",
       "      <td>148.3</td>\n",
       "      <td>115</td>\n",
       "      <td>12.61</td>\n",
       "      <td>179.8</td>\n",
       "      <td>88</td>\n",
       "      <td>8.09</td>\n",
       "      <td>15.2</td>\n",
       "      <td>5</td>\n",
       "      <td>4.10</td>\n",
       "      <td>2</td>\n",
       "    </tr>\n",
       "  </tbody>\n",
       "</table>\n",
       "</div>"
      ],
      "text/plain": [
       "     state  account_length      area_code international_plan voice_mail_plan  \\\n",
       "3835    NE             166  area_code_415                 no              no   \n",
       "1518    CT             125  area_code_415                yes              no   \n",
       "1704    NC              89  area_code_408                 no              no   \n",
       "3808    VT              83  area_code_510                 no             yes   \n",
       "1448    AZ             100  area_code_415                 no              no   \n",
       "\n",
       "      number_vmail_messages  total_day_calls  total_day_charge  \\\n",
       "3835                      0              117             40.56   \n",
       "1518                      0              118             31.84   \n",
       "1704                      0              151             18.00   \n",
       "3808                     37              117             22.63   \n",
       "1448                      0              152             32.05   \n",
       "\n",
       "      total_eve_minutes  total_eve_calls  total_eve_charge  \\\n",
       "3835              242.8               73             20.64   \n",
       "1518              160.7              111             13.66   \n",
       "1704              189.6              142             16.12   \n",
       "3808              171.4               89             14.57   \n",
       "1448              148.3              115             12.61   \n",
       "\n",
       "      total_night_minutes  total_night_calls  total_night_charge  \\\n",
       "3835                203.3                130                9.15   \n",
       "1518                263.8                112               11.87   \n",
       "1704                170.9                 67                7.69   \n",
       "3808                218.1                 92                9.81   \n",
       "1448                179.8                 88                8.09   \n",
       "\n",
       "      total_intl_minutes  total_intl_calls  total_intl_charge  \\\n",
       "3835                10.0                 8               2.70   \n",
       "1518                 9.6                 2               2.59   \n",
       "1704                12.7                 7               3.43   \n",
       "3808                10.9                 4               2.94   \n",
       "1448                15.2                 5               4.10   \n",
       "\n",
       "      number_customer_service_calls  \n",
       "3835                              4  \n",
       "1518                              0  \n",
       "1704                              0  \n",
       "3808                              3  \n",
       "1448                              2  "
      ]
     },
     "execution_count": 11,
     "metadata": {},
     "output_type": "execute_result"
    }
   ],
   "source": [
    "X_train.head()"
   ]
  },
  {
   "cell_type": "code",
   "execution_count": 12,
   "id": "wicked-demand",
   "metadata": {},
   "outputs": [
    {
     "name": "stdout",
     "output_type": "stream",
     "text": [
      "Fitting 5 folds for each of 50 candidates, totalling 250 fits\n"
     ]
    },
    {
     "name": "stderr",
     "output_type": "stream",
     "text": [
      "[Parallel(n_jobs=-2)]: Using backend LokyBackend with 3 concurrent workers.\n",
      "[Parallel(n_jobs=-2)]: Done  44 tasks      | elapsed:   34.7s\n",
      "[Parallel(n_jobs=-2)]: Done 194 tasks      | elapsed:  2.1min\n",
      "[Parallel(n_jobs=-2)]: Done 250 out of 250 | elapsed:  2.6min finished\n"
     ]
    },
    {
     "name": "stdout",
     "output_type": "stream",
     "text": [
      "{'algo__colsample_bytree': 0.9763799669573133, 'algo__gamma': 3, 'algo__learning_rate': 0.05820013372709852, 'algo__max_depth': 4, 'algo__n_estimators': 163, 'algo__reg_alpha': 0.07362945281639222, 'algo__reg_lambda': 2.752717392942944, 'algo__subsample': 0.6401537692938899}\n",
      "0.8967082860385927 0.8240743415667581 0.8252427184466019\n"
     ]
    }
   ],
   "source": [
    "preprocessor = ColumnTransformer([\n",
    "    ('numeric', num_pipe(), numeric),\n",
    "    ('categoric', cat_pipe(encoder='onehot'), ['area_code', 'international_plan', 'voice_mail_plan']),\n",
    "    ('categoric2', cat_pipe2, ['state']),\n",
    "])\n",
    "\n",
    "pipeline = Pipeline([\n",
    "    ('prep', preprocessor),\n",
    "    ('algo', XGBClassifier(n_jobs=-2, random_state=42, verbosity=0))\n",
    "])\n",
    "\n",
    "model = RandomizedSearchCV(pipeline, rsp.xgb_params, cv=5, scoring='f1', n_iter=50, n_jobs=-2, verbose=1, random_state=42)\n",
    "model.fit(X_train, y_train)\n",
    "\n",
    "print(model.best_params_)\n",
    "print(model.score(X_train, y_train), model.best_score_, model.score(X_test, y_test))"
   ]
  },
  {
   "cell_type": "markdown",
   "id": "instrumental-administration",
   "metadata": {},
   "source": [
    "## Features Important"
   ]
  },
  {
   "cell_type": "code",
   "execution_count": 13,
   "id": "british-growth",
   "metadata": {},
   "outputs": [
    {
     "data": {
      "image/png": "[encoded data removed]",
      "text/plain": [
       "<Figure size 1080x360 with 1 Axes>"
      ]
     },
     "metadata": {},
     "output_type": "display_data"
    }
   ],
   "source": [
    "df_imp = mean_score_decrease(X_train, y_train, model, plot=True)"
   ]
  },
  {
   "cell_type": "markdown",
   "id": "present-sculpture",
   "metadata": {},
   "source": [
    "total_day_charge merupakan fitur paling penting dalam memprediksi apakah seseorang akan churn atau tidak."
   ]
  },
  {
   "cell_type": "code",
   "execution_count": 14,
   "id": "coral-america",
   "metadata": {},
   "outputs": [],
   "source": [
    "feat_imp = list(df_imp.feature[:8])"
   ]
  },
  {
   "cell_type": "code",
   "execution_count": 15,
   "id": "discrete-heavy",
   "metadata": {},
   "outputs": [],
   "source": [
    "numeric2 = list(X_train[feat_imp].dtypes[X_train[feat_imp].dtypes != 'object'].index)"
   ]
  },
  {
   "cell_type": "code",
   "execution_count": 16,
   "id": "trained-chassis",
   "metadata": {},
   "outputs": [],
   "source": [
    "categoric2 = list(X_train[feat_imp].dtypes[X_train[feat_imp].dtypes == 'object'].index)"
   ]
  },
  {
   "cell_type": "code",
   "execution_count": 17,
   "id": "indie-guest",
   "metadata": {},
   "outputs": [
    {
     "name": "stdout",
     "output_type": "stream",
     "text": [
      "Fitting 5 folds for each of 50 candidates, totalling 250 fits\n"
     ]
    },
    {
     "name": "stderr",
     "output_type": "stream",
     "text": [
      "[Parallel(n_jobs=-2)]: Using backend LokyBackend with 3 concurrent workers.\n",
      "[Parallel(n_jobs=-2)]: Done  44 tasks      | elapsed:   18.0s\n",
      "[Parallel(n_jobs=-2)]: Done 194 tasks      | elapsed:  1.3min\n",
      "[Parallel(n_jobs=-2)]: Done 250 out of 250 | elapsed:  1.6min finished\n"
     ]
    },
    {
     "name": "stdout",
     "output_type": "stream",
     "text": [
      "{'algo__colsample_bytree': 0.9763799669573133, 'algo__gamma': 3, 'algo__learning_rate': 0.05820013372709852, 'algo__max_depth': 4, 'algo__n_estimators': 163, 'algo__reg_alpha': 0.07362945281639222, 'algo__reg_lambda': 2.752717392942944, 'algo__subsample': 0.6401537692938899}\n",
      "0.8931818181818182 0.83484301391972 0.8365384615384616\n"
     ]
    }
   ],
   "source": [
    "preprocessor = ColumnTransformer([\n",
    "    ('numeric', num_pipe(), numeric2),\n",
    "    ('categoric', cat_pipe(encoder='onehot'), categoric2),\n",
    "])\n",
    "\n",
    "pipeline = Pipeline([\n",
    "    ('prep', preprocessor),\n",
    "    ('algo', XGBClassifier(n_jobs=-2, random_state=42, verbosity=0))\n",
    "])\n",
    "\n",
    "model = RandomizedSearchCV(pipeline, rsp.xgb_params, cv=5, scoring='f1', n_iter=50, n_jobs=-2, verbose=1, random_state=42)\n",
    "model.fit(X_train, y_train)\n",
    "\n",
    "print(model.best_params_)\n",
    "print(model.score(X_train, y_train), model.best_score_, model.score(X_test, y_test))"
   ]
  },
  {
   "cell_type": "markdown",
   "id": "seasonal-provision",
   "metadata": {},
   "source": [
    "Setelah dilakukan feature selection after modeling terjadi kenaikan skor pada test >1%."
   ]
  },
  {
   "cell_type": "markdown",
   "id": "decimal-academy",
   "metadata": {},
   "source": [
    "## Polynomial Features "
   ]
  },
  {
   "cell_type": "code",
   "execution_count": 18,
   "id": "transsexual-kinase",
   "metadata": {},
   "outputs": [
    {
     "name": "stdout",
     "output_type": "stream",
     "text": [
      "Fitting 5 folds for each of 50 candidates, totalling 250 fits\n"
     ]
    },
    {
     "name": "stderr",
     "output_type": "stream",
     "text": [
      "[Parallel(n_jobs=-2)]: Using backend LokyBackend with 3 concurrent workers.\n",
      "[Parallel(n_jobs=-2)]: Done  44 tasks      | elapsed:   40.1s\n",
      "[Parallel(n_jobs=-2)]: Done 194 tasks      | elapsed:  2.9min\n",
      "[Parallel(n_jobs=-2)]: Done 250 out of 250 | elapsed:  3.5min finished\n"
     ]
    },
    {
     "name": "stdout",
     "output_type": "stream",
     "text": [
      "{'algo__colsample_bytree': 0.3516043076170827, 'algo__gamma': 6, 'algo__learning_rate': 0.054994264803456094, 'algo__max_depth': 9, 'algo__n_estimators': 136, 'algo__reg_alpha': 5.1674258133224225, 'algo__reg_lambda': 0.051610324923470736, 'algo__subsample': 0.7833274095218349, 'prep__numeric__poly__degree': 3, 'prep__numeric__poly__interaction_only': False}\n",
      "0.8962371721778791 0.8695213308889521 0.8530805687203792\n"
     ]
    }
   ],
   "source": [
    "preprocessor = ColumnTransformer([\n",
    "    ('numeric', num_pipe(poly=2), numeric2),\n",
    "    ('categoric', cat_pipe(encoder='onehot'), categoric2),\n",
    "])\n",
    "\n",
    "pipeline = Pipeline([\n",
    "    ('prep', preprocessor),\n",
    "    ('algo', XGBClassifier(n_jobs=-2, random_state=42, verbosity=0))\n",
    "])\n",
    "\n",
    "model = RandomizedSearchCV(pipeline, rsp.xgb_poly_params, cv=5, scoring='f1', n_iter=50, n_jobs=-2, verbose=1, random_state=42)\n",
    "model.fit(X_train, y_train)\n",
    "\n",
    "print(model.best_params_)\n",
    "print(model.score(X_train, y_train), model.best_score_, model.score(X_test, y_test))"
   ]
  },
  {
   "cell_type": "markdown",
   "id": "dress-shooting",
   "metadata": {},
   "source": [
    "## Fine Tuning"
   ]
  },
  {
   "cell_type": "code",
   "execution_count": 19,
   "id": "fabulous-rescue",
   "metadata": {},
   "outputs": [],
   "source": [
    "drop = list(df_imp.feature[8:])"
   ]
  },
  {
   "cell_type": "code",
   "execution_count": 20,
   "id": "favorite-title",
   "metadata": {},
   "outputs": [],
   "source": [
    "X_train.drop(columns=drop, axis=1, inplace=True)\n",
    "X_test.drop(columns=drop, axis=1, inplace=True)"
   ]
  },
  {
   "cell_type": "code",
   "execution_count": 21,
   "id": "local-tulsa",
   "metadata": {},
   "outputs": [
    {
     "data": {
      "text/plain": [
       "((3400, 8), (850, 8))"
      ]
     },
     "execution_count": 21,
     "metadata": {},
     "output_type": "execute_result"
    }
   ],
   "source": [
    "X_train.shape, X_test.shape"
   ]
  },
  {
   "cell_type": "code",
   "execution_count": 22,
   "id": "marine-spirit",
   "metadata": {},
   "outputs": [
    {
     "name": "stdout",
     "output_type": "stream",
     "text": [
      "Fitting 5 folds for each of 50 candidates, totalling 250 fits\n"
     ]
    },
    {
     "name": "stderr",
     "output_type": "stream",
     "text": [
      "[Parallel(n_jobs=-2)]: Using backend LokyBackend with 3 concurrent workers.\n",
      "[Parallel(n_jobs=-2)]: Done  44 tasks      | elapsed:   21.6s\n",
      "[Parallel(n_jobs=-2)]: Done 194 tasks      | elapsed:  1.6min\n",
      "[Parallel(n_jobs=-2)]: Done 250 out of 250 | elapsed:  2.0min finished\n"
     ]
    },
    {
     "name": "stdout",
     "output_type": "stream",
     "text": [
      "{'algo__colsample_bytree': 0.32178245842151365, 'algo__gamma': 3, 'algo__learning_rate': 0.040869002562844765, 'algo__max_depth': 7, 'algo__n_estimators': 132, 'algo__reg_alpha': 1.8522006003174383, 'algo__reg_lambda': 0.32246177486423727, 'algo__subsample': 0.5616965933554245, 'prep__numeric__poly__degree': 3, 'prep__numeric__poly__interaction_only': False}\n",
      "0.9164785553047404 0.8740564224534124 0.8785046728971964\n"
     ]
    }
   ],
   "source": [
    "preprocessor = ColumnTransformer([\n",
    "    ('numeric', num_pipe(poly=2), numeric2),\n",
    "    ('categoric', cat_pipe(encoder='onehot'), categoric2),\n",
    "])\n",
    "\n",
    "pipeline = Pipeline([\n",
    "    ('prep', preprocessor),\n",
    "    ('algo', XGBClassifier(n_jobs=-2, random_state=42, verbosity=0))\n",
    "])\n",
    "\n",
    "parameter = {'prep__numeric__poly__degree': Integer(low=1, high=3),\n",
    "             'prep__numeric__poly__interaction_only': [True, False],\n",
    "             'algo__max_depth': Integer(low=1, high=9),\n",
    "             'algo__learning_rate': Real(low=-2, high=0, prior='log-uniform'),\n",
    "             'algo__n_estimators': Integer(low=100, high=198),\n",
    "             'algo__subsample': Real(low=0.3, high=0.77, prior='uniform'),\n",
    "             'algo__gamma': Integer(low=1, high=3),\n",
    "             'algo__colsample_bytree': Real(low=0.1, high=0.36, prior='uniform'),\n",
    "             'algo__reg_alpha': Real(low=-1, high=3, prior='log-uniform'),\n",
    "             'algo__reg_lambda': Real(low=-1, high=2, prior='log-uniform')}\n",
    "\n",
    "model = RandomizedSearchCV(pipeline, parameter, cv=5, scoring='f1', n_iter=50, n_jobs=-2, verbose=1, random_state=42)\n",
    "model.fit(X_train, y_train)\n",
    "\n",
    "print(model.best_params_)\n",
    "print(model.score(X_train, y_train), model.best_score_, model.score(X_test, y_test))"
   ]
  },
  {
   "cell_type": "markdown",
   "id": "catholic-chicken",
   "metadata": {},
   "source": [
    "Model telah mendapatkan hyperparameter optimal. Jika dibandingkan dengan baseline, terjadi sedikit kenaikan skor pada test. "
   ]
  },
  {
   "cell_type": "markdown",
   "id": "therapeutic-uniform",
   "metadata": {},
   "source": [
    "## Evaluation"
   ]
  },
  {
   "cell_type": "code",
   "execution_count": 23,
   "id": "recognized-helmet",
   "metadata": {},
   "outputs": [],
   "source": [
    "from jcopml.plot import plot_classification_report, plot_confusion_matrix, plot_pr_curve, plot_roc_curve"
   ]
  },
  {
   "cell_type": "code",
   "execution_count": 24,
   "id": "spoken-timber",
   "metadata": {},
   "outputs": [
    {
     "name": "stdout",
     "output_type": "stream",
     "text": [
      "Train report\n",
      "              precision    recall  f1-score   support\n",
      "\n",
      "           0       0.98      1.00      0.99      2922\n",
      "           1       1.00      0.85      0.92       478\n",
      "\n",
      "    accuracy                           0.98      3400\n",
      "   macro avg       0.99      0.92      0.95      3400\n",
      "weighted avg       0.98      0.98      0.98      3400\n",
      "\n",
      "\n",
      "Test report\n",
      "              precision    recall  f1-score   support\n",
      "\n",
      "           0       0.97      1.00      0.98       730\n",
      "           1       1.00      0.78      0.88       120\n",
      "\n",
      "    accuracy                           0.97       850\n",
      "   macro avg       0.98      0.89      0.93       850\n",
      "weighted avg       0.97      0.97      0.97       850\n",
      "\n"
     ]
    }
   ],
   "source": [
    "plot_classification_report(X_train, y_train, X_test, y_test, model, report=True)"
   ]
  },
  {
   "cell_type": "code",
   "execution_count": 25,
   "id": "charitable-brick",
   "metadata": {},
   "outputs": [
    {
     "data": {
      "image/png": "[encoded data removed]",
      "text/plain": [
       "<Figure size 936x432 with 2 Axes>"
      ]
     },
     "metadata": {},
     "output_type": "display_data"
    }
   ],
   "source": [
    "plot_roc_curve(X_train, y_train, X_test, y_test, model)"
   ]
  },
  {
   "cell_type": "code",
   "execution_count": 26,
   "id": "hungry-groove",
   "metadata": {},
   "outputs": [
    {
     "data": {
      "image/png": "[encoded data removed]",
      "text/plain": [
       "<Figure size 936x432 with 2 Axes>"
      ]
     },
     "metadata": {},
     "output_type": "display_data"
    }
   ],
   "source": [
    "plot_pr_curve(X_train, y_train, X_test, y_test, model)"
   ]
  },
  {
   "cell_type": "code",
   "execution_count": 27,
   "id": "every-realtor",
   "metadata": {},
   "outputs": [
    {
     "data": {
      "image/png": "[encoded data removed]",
      "text/plain": [
       "<Figure size 792x360 with 2 Axes>"
      ]
     },
     "metadata": {},
     "output_type": "display_data"
    }
   ],
   "source": [
    "plot_confusion_matrix(X_train, y_train, X_test, y_test, model)"
   ]
  },
  {
   "cell_type": "markdown",
   "id": "combined-guard",
   "metadata": {},
   "source": [
    "## Save Model"
   ]
  },
  {
   "cell_type": "code",
   "execution_count": 28,
   "id": "parliamentary-alignment",
   "metadata": {},
   "outputs": [
    {
     "name": "stdout",
     "output_type": "stream",
     "text": [
      "Model is pickled as model/churn_xgb.pkl\n"
     ]
    }
   ],
   "source": [
    "save_model(model.best_estimator_, \"churn_xgb.pkl\")"
   ]
  },
  {
   "cell_type": "code",
   "execution_count": null,
   "id": "8d1ba107",
   "metadata": {},
   "outputs": [],
   "source": []
  }
 ],
 "metadata": {
  "kernelspec": {
   "display_name": "Python [conda env:jcop]",
   "language": "python",
   "name": "conda-env-jcop-py"
  },
  "language_info": {
   "codemirror_mode": {
    "name": "ipython",
    "version": 3
   },
   "file_extension": ".py",
   "mimetype": "text/x-python",
   "name": "python",
   "nbconvert_exporter": "python",
   "pygments_lexer": "ipython3",
   "version": "3.7.6"
  }
 },
 "nbformat": 4,
 "nbformat_minor": 5
}
